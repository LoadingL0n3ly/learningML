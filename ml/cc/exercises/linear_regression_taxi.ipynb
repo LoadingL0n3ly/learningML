{
  "cells": [
    {
      "cell_type": "markdown",
      "metadata": {
        "id": "view-in-github",
        "colab_type": "text"
      },
      "source": [
        "<a href=\"https://colab.research.google.com/github/LoadingL0n3ly/learningML/blob/main/ml/cc/exercises/linear_regression_taxi.ipynb\" target=\"_parent\"><img src=\"https://colab.research.google.com/assets/colab-badge.svg\" alt=\"Open In Colab\"/></a>"
      ]
    },
    {
      "metadata": {
        "cellView": "form",
        "id": "X53vZqc7PxCA"
      },
      "cell_type": "code",
      "source": [
        "#@title Copyright 2023 Google LLC. Double-click here for license information.\n",
        "# Licensed under the Apache License, Version 2.0 (the \"License\");\n",
        "# you may not use this file except in compliance with the License.\n",
        "# You may obtain a copy of the License at\n",
        "#\n",
        "# https://www.apache.org/licenses/LICENSE-2.0\n",
        "#\n",
        "# Unless required by applicable law or agreed to in writing, software\n",
        "# distributed under the License is distributed on an \"AS IS\" BASIS,\n",
        "# WITHOUT WARRANTIES OR CONDITIONS OF ANY KIND, either express or implied.\n",
        "# See the License for the specific language governing permissions and\n",
        "# limitations under the License."
      ],
      "outputs": [],
      "execution_count": null
    },
    {
      "metadata": {
        "id": "mWCXBrPgQD0P"
      },
      "cell_type": "markdown",
      "source": [
        "# Colabs\n",
        "\n",
        "Machine Learning Crash Course uses Colaboratories (Colabs) for all programming exercises. Colab is Google's implementation of [Jupyter Notebook](https://jupyter.org/). For more information about Colabs and how to use them, go to [Welcome to Colaboratory](https://research.google.com/colaboratory).\n",
        "\n",
        "# Linear Regression\n",
        "In this Colab you will use a real dataset to train a model to predict the fare of a taxi ride in Chicago, Illinois.\n",
        "\n",
        "## Learning Objectives\n",
        "After completing this Colab, you'll be able to:\n",
        "\n",
        "  * Read a .csv file into a [pandas](https://developers.google.com/machine-learning/glossary/#pandas) DataFrame.\n",
        "  * Explore a [dataset](https://developers.google.com/machine-learning/glossary/#data_set) with Python visualization libraries.\n",
        "  * Experiment with different [features](https://developers.google.com/machine-learning/glossary/#feature) to build a linear regression model.\n",
        "  * Tune the model's [hyperparameters](https://developers.google.com/machine-learning/glossary/#hyperparameter).\n",
        "  * Compare training runs using [root mean squared error](https://developers.google.com/machine-learning/glossary/#root-mean-squared-error-rmse) and [loss curves](https://developers.google.com/machine-learning/glossary/#loss-curve).\n",
        "\n",
        "## Dataset Description\n",
        "The [dataset for this exercise](https://storage.mtls.cloud.google.com/mlcc-nextgen-internal/chicago_taxi_train.csv) is derived from the [City of Chicago Taxi Trips dataset](https://data.cityofchicago.org/Transportation/Taxi-Trips/wrvz-psew). The data for this exercise is a subset of the Taxi Trips data, and focuses on a two-day period in May of 2022."
      ]
    },
    {
      "metadata": {
        "id": "bBJQc5TgRrFx"
      },
      "cell_type": "markdown",
      "source": [
        "# Part 1 - Setup Exercise\n",
        "\n",
        "\n",
        "---"
      ]
    },
    {
      "metadata": {
        "id": "V9pkosc63-63"
      },
      "cell_type": "markdown",
      "source": [
        "## Load required modules\n",
        "\n",
        "This exercise depends on several Python libraries to help with data manipulation, machine learning tasks, and data visualization.\n",
        "\n",
        "**Instructions**\n",
        "1. Run the **Install required libraries** code cell (below).\n",
        "1. Run the **Load dependencies** code cell (below)."
      ]
    },
    {
      "metadata": {
        "id": "LihQB7ycKEnb"
      },
      "cell_type": "code",
      "source": [
        "#@title Install required libraries\n",
        "\n",
        "!pip install google-ml-edu==0.1.3 \\\n",
        "  keras~=3.8.0 \\\n",
        "  matplotlib~=3.10.0 \\\n",
        "  numpy~=2.0.0 \\\n",
        "  pandas~=2.2.0 \\\n",
        "  tensorflow~=2.18.0\n",
        "\n",
        "print('\\n\\nAll requirements successfully installed.')"
      ],
      "outputs": [],
      "execution_count": null
    },
    {
      "metadata": {
        "cellView": "form",
        "id": "wHBXW8ob16z3"
      },
      "cell_type": "code",
      "source": [
        "#@title Code - Load dependencies\n",
        "\n",
        "# data\n",
        "import numpy as np\n",
        "import pandas as pd\n",
        "\n",
        "# machine learning\n",
        "import keras\n",
        "import ml_edu.experiment\n",
        "import ml_edu.results\n",
        "\n",
        "# data visualization\n",
        "import plotly.express as px"
      ],
      "outputs": [],
      "execution_count": null
    },
    {
      "metadata": {
        "id": "sgR4YRjj5T-b"
      },
      "cell_type": "markdown",
      "source": [
        "## Load the dataset\n",
        "\n",
        "\n",
        "The following code cell loads the dataset and creates a pandas DataFrame.\n",
        "\n",
        "You can think of a DataFrame like a spreadsheet with rows and columns. The rows represent individual data examples, and the columns represent the attributes associated with each example."
      ]
    },
    {
      "metadata": {
        "id": "abmswn6USJjQ"
      },
      "cell_type": "code",
      "source": [
        "# @title\n",
        "chicago_taxi_dataset = pd.read_csv(\"https://download.mlcc.google.com/mledu-datasets/chicago_taxi_train.csv\")"
      ],
      "outputs": [],
      "execution_count": null
    },
    {
      "metadata": {
        "id": "iKE0s1hNQ4H9"
      },
      "cell_type": "markdown",
      "source": [
        "## Update the dataframe\n",
        "\n",
        "The following code cell updates the DataFrame to use only specific columns from the dataset.\n",
        "\n",
        "Notice that that output shows just a sample of the dataset, but there should be enough information for you to identify the features associated with the dataset, and have a look at the actual data for a few examples."
      ]
    },
    {
      "metadata": {
        "cellView": "form",
        "id": "YuLz6IgGP2LE"
      },
      "cell_type": "code",
      "source": [
        "#@title Code - Read dataset\n",
        "\n",
        "# Updates dataframe to use specific columns.\n",
        "training_df = chicago_taxi_dataset.loc[:, ('TRIP_MILES', 'TRIP_SECONDS', 'FARE', 'COMPANY', 'PAYMENT_TYPE', 'TIP_RATE')]\n",
        "\n",
        "print('Read dataset completed successfully.')\n",
        "print('Total number of rows: {0}\\n\\n'.format(len(training_df.index)))\n",
        "training_df.head(200)"
      ],
      "outputs": [],
      "execution_count": null
    },
    {
      "metadata": {
        "id": "RUL471vSR28O"
      },
      "cell_type": "markdown",
      "source": [
        "# Part 2 - Dataset Exploration\n",
        "\n",
        "\n",
        "---"
      ]
    },
    {
      "metadata": {
        "id": "7mhqzPIS9nFv"
      },
      "cell_type": "markdown",
      "source": [
        "## View dataset statistics\n",
        "\n",
        "A large part of most machine learning projects is getting to know your data. In this step, you will use the ``DataFrame.describe`` method to view descriptive statistics about the dataset and answer some important questions about the data.\n",
        "\n",
        "**Instructions**\n",
        "1. Run the **View dataset statistics** code cell.\n",
        "1. Inspect the output and answer these questions:\n",
        "  * What is the maximum fare?\n",
        "  * What is the mean distance across all trips?\n",
        "  * How many cab companies are in the dataset?\n",
        "  * What is the most frequent payment type?\n",
        "  * Are any features missing data?\n",
        "1. Run the code **View answers to dataset statistics** code cell to check your answers.\n",
        "\n",
        "\n",
        "You might be wondering why there are groups of `NaN` (not a number) values listed in the output. When working with data in Python, you may see this value if the result of a calculation can not be computed or if there is missing information. For example, in the taxi dataset `PAYMENT_TYPE` and `COMPANY` are non-numeric, categorical features; numeric information such as mean and max do not make sense for categorical features so the output displays `NaN`."
      ]
    },
    {
      "metadata": {
        "cellView": "form",
        "id": "pkuQNjgoAKYt"
      },
      "cell_type": "code",
      "source": [
        "#@title Code - View dataset statistics\n",
        "\n",
        "print('Total number of rows: {0}\\n\\n'.format(len(training_df.index)))\n",
        "training_df.describe(include='all')"
      ],
      "outputs": [],
      "execution_count": null
    },
    {
      "metadata": {
        "cellView": "form",
        "id": "VQ9R5o7CcFzY"
      },
      "cell_type": "code",
      "source": [
        "#@title Double-click or run to view answers about dataset statistics\n",
        "\n",
        "answer = '''\n",
        "What is the maximum fare? \t\t\t\t              Answer: $159.25\n",
        "What is the mean distance across all trips? \t\tAnswer: 8.2895 miles\n",
        "How many cab companies are in the dataset? \t\t  Answer: 31\n",
        "What is the most frequent payment type? \t\t    Answer: Credit Card\n",
        "Are any features missing data? \t\t\t\t          Answer: No\n",
        "'''\n",
        "\n",
        "# You should be able to find the answers to the questions about the dataset\n",
        "# by inspecting the table output after running the DataFrame describe method.\n",
        "#\n",
        "# Run this code cell to verify your answers.\n",
        "\n",
        "# What is the maximum fare?\n",
        "max_fare = training_df['FARE'].max()\n",
        "print(\"What is the maximum fare? \t\t\t\tAnswer: ${fare:.2f}\".format(fare = max_fare))\n",
        "\n",
        "# What is the mean distance across all trips?\n",
        "mean_distance = training_df['TRIP_MILES'].mean()\n",
        "print(\"What is the mean distance across all trips? \t\tAnswer: {mean:.4f} miles\".format(mean = mean_distance))\n",
        "\n",
        "# How many cab companies are in the dataset?\n",
        "num_unique_companies =  training_df['COMPANY'].nunique()\n",
        "print(\"How many cab companies are in the dataset? \t\tAnswer: {number}\".format(number = num_unique_companies))\n",
        "\n",
        "# What is the most frequent payment type?\n",
        "most_freq_payment_type = training_df['PAYMENT_TYPE'].value_counts().idxmax()\n",
        "print(\"What is the most frequent payment type? \t\tAnswer: {type}\".format(type = most_freq_payment_type))\n",
        "\n",
        "# Are any features missing data?\n",
        "missing_values = training_df.isnull().sum().sum()\n",
        "print(\"Are any features missing data? \t\t\t\tAnswer:\", \"No\" if missing_values == 0 else \"Yes\")"
      ],
      "outputs": [],
      "execution_count": null
    },
    {
      "metadata": {
        "id": "-StQ4-wbBpIP"
      },
      "cell_type": "markdown",
      "source": [
        "## Generate a correlation matrix\n",
        "\n",
        "An important part of machine learning is determining which [features](https://developers.google.com/machine-learning/glossary/#feature) correlate with the [label](https://developers.google.com/machine-learning/glossary/#label). If you have ever taken a taxi ride before, your experience is probably telling you that the fare is typically associated with the distance traveled and the duration of the trip. But, is there a way for you to learn more about how well these features correlate to the fare (label)?\n",
        "\n",
        "In this step, you will use a **correlation matrix** to identify features whose values correlate well with the label. Correlation values have the following meanings:\n",
        "\n",
        "  * **`1.0`**: perfect positive correlation; that is, when one attribute rises, the other attribute rises.\n",
        "  * **`-1.0`**: perfect negative correlation; that is, when one attribute rises, the other attribute falls.\n",
        "  * **`0.0`**: no correlation; the two columns [are not linearly related](https://en.wikipedia.org/wiki/Correlation_and_dependence#/media/File:Correlation_examples2.svg).\n",
        "\n",
        "In general, the higher the absolute value of a correlation value, the greater its predictive power.\n",
        "\n",
        "**Instructions**\n",
        "\n",
        "1. Inspect the code in the **View correlation matrix** code cell.\n",
        "1. Run the **View correlation matrix** code cell and inspect the output.\n",
        "1. **Check your understanding** by answering these questions:\n",
        "  * Which feature correlates most strongly to the label FARE?\n",
        "  * Which feature correlates least strongly to the label FARE?\n"
      ]
    },
    {
      "metadata": {
        "cellView": "form",
        "id": "-1kFmfdFDVmv"
      },
      "cell_type": "code",
      "source": [
        "#@title Code - View correlation matrix\n",
        "training_df.corr(numeric_only = True)"
      ],
      "outputs": [],
      "execution_count": null
    },
    {
      "metadata": {
        "cellView": "form",
        "id": "ExPq1h6wIzvR"
      },
      "cell_type": "code",
      "source": [
        "#@title Double-click to view answers about the correlation matrix\n",
        "\n",
        "# Which feature correlates most strongly to the label FARE?\n",
        "# ---------------------------------------------------------\n",
        "answer = '''\n",
        "The feature with the strongest correlation to the FARE is TRIP_MILES.\n",
        "As you might expect, TRIP_MILES looks like a good feature to start with to train\n",
        "the model. Also, notice that the feature TRIP_SECONDS has a strong correlation\n",
        "with fare too.\n",
        "'''\n",
        "print(answer)\n",
        "\n",
        "\n",
        "# Which feature correlates least strongly to the label FARE?\n",
        "# -----------------------------------------------------------\n",
        "answer = '''The feature with the weakest correlation to the FARE is TIP_RATE.'''\n",
        "print(answer)"
      ],
      "outputs": [],
      "execution_count": null
    },
    {
      "metadata": {
        "id": "rqklIw96G7JA"
      },
      "cell_type": "markdown",
      "source": [
        "## Visualize relationships in dataset\n",
        "\n",
        "Sometimes it is helpful to visualize relationships between features in a dataset; one way to do this is with a pair plot. A **pair plot** generates a grid of pairwise plots to visualize the relationship of each feature with all other features all in one place.\n",
        "\n",
        "**Instructions**\n",
        "1. Run the **View pair plot** code cell."
      ]
    },
    {
      "metadata": {
        "cellView": "form",
        "id": "ph0FE7ZxHY36"
      },
      "cell_type": "code",
      "source": [
        "#@title Code - View pairplot\n",
        "px.scatter_matrix(training_df, dimensions=[\"FARE\", \"TRIP_MILES\", \"TRIP_SECONDS\"])"
      ],
      "outputs": [],
      "execution_count": null
    },
    {
      "metadata": {
        "id": "zrereRcYR9KG"
      },
      "cell_type": "markdown",
      "source": [
        "# Part 3 - Train Model\n",
        "\n",
        "\n",
        "---"
      ]
    },
    {
      "metadata": {
        "id": "iRluiQhNvTwc"
      },
      "cell_type": "markdown",
      "source": [
        "## Define functions to build and train a model\n",
        "\n",
        "The code you need to build and train your model is in the **Define ML functions** code cell. If you would like to explore this code, expand the code cell and take a look.\n",
        "\n",
        "**Instructions**\n",
        "1. Run the **Define ML functions** code cell."
      ]
    },
    {
      "metadata": {
        "cellView": "form",
        "id": "W6a7dtcCob-n",
        "outputId": "efcf5f3b-c165-44fb-df4a-adea51a7048a",
        "colab": {
          "base_uri": "https://localhost:8080/"
        }
      },
      "cell_type": "code",
      "source": [
        "#@title Code - Define ML functions\n",
        "\n",
        "def create_model(\n",
        "    settings: ml_edu.experiment.ExperimentSettings,\n",
        "    metrics: list[keras.metrics.Metric],\n",
        ") -> keras.Model:\n",
        "  \"\"\"Create and compile a simple linear regression model.\"\"\"\n",
        "  # Describe the topography of the model.\n",
        "  # The topography of a simple linear regression model\n",
        "  # is a single node in a single layer.\n",
        "  inputs = {name: keras.Input(shape=(1,), name=name) for name in settings.input_features}\n",
        "  concatenated_inputs = keras.layers.Concatenate()(list(inputs.values()))\n",
        "  outputs = keras.layers.Dense(units=1)(concatenated_inputs)\n",
        "  model = keras.Model(inputs=inputs, outputs=outputs)\n",
        "\n",
        "  # Compile the model topography into code that Keras can efficiently\n",
        "  # execute. Configure training to minimize the model's mean squared error.\n",
        "  model.compile(optimizer=keras.optimizers.RMSprop(learning_rate=settings.learning_rate),\n",
        "                loss=\"mean_squared_error\",\n",
        "                metrics=metrics)\n",
        "\n",
        "  return model\n",
        "\n",
        "\n",
        "def train_model(\n",
        "    experiment_name: str,\n",
        "    model: keras.Model,\n",
        "    dataset: pd.DataFrame,\n",
        "    label_name: str,\n",
        "    settings: ml_edu.experiment.ExperimentSettings,\n",
        ") -> ml_edu.experiment.Experiment:\n",
        "  \"\"\"Train the model by feeding it data.\"\"\"\n",
        "\n",
        "  # Feed the model the feature and the label.\n",
        "  # The model will train for the specified number of epochs.\n",
        "  features = {name: dataset[name].values for name in settings.input_features}\n",
        "  label = dataset[label_name].values\n",
        "  history = model.fit(x=features,\n",
        "                      y=label,\n",
        "                      batch_size=settings.batch_size,\n",
        "                      epochs=settings.number_epochs)\n",
        "\n",
        "  return ml_edu.experiment.Experiment(\n",
        "      name=experiment_name,\n",
        "      settings=settings,\n",
        "      model=model,\n",
        "      epochs=history.epoch,\n",
        "      metrics_history=pd.DataFrame(history.history),\n",
        "  )\n",
        "\n",
        "print(\"SUCCESS: defining linear regression functions complete.\")"
      ],
      "outputs": [
        {
          "output_type": "stream",
          "name": "stdout",
          "text": [
            "SUCCESS: defining linear regression functions complete.\n"
          ]
        }
      ],
      "execution_count": 21
    },
    {
      "metadata": {
        "id": "m3DQCE2OpH4-"
      },
      "cell_type": "markdown",
      "source": [
        "## Train a model with one feature\n",
        "\n",
        "In this step you will train a model to predict the cost of the fare using a **single feature**. Earlier, you saw that `TRIP_MILES` (distance) correlates most strongly with the ``FARE``, so let's start with `TRIP_MILES` as the feature for your first training run.\n",
        "\n",
        "**Instructions**\n",
        "\n",
        "1. Run the **Experiment 1** code cell to build your model with one feature.\n",
        "1. Review the output from the training run\n",
        "1. **Check your understanding** by answering these questions:\n",
        "  * How many epochs did it take to converge on the final model?\n",
        "  * How well does the model fit the sample data?\n",
        "\n",
        "During training, you should see the root mean square error (RMSE) in the output. The units for RMSE are the same as the units for the label (dollars). In other words, you can use the RMSE to determine how far off, on average, the predicted fares are in dollars from the observed values."
      ]
    },
    {
      "metadata": {
        "id": "F_17Aum6IG1F",
        "outputId": "4016fecf-e524-4097-c3c3-7d8717759aad",
        "colab": {
          "base_uri": "https://localhost:8080/",
          "height": 1000
        }
      },
      "cell_type": "code",
      "source": [
        "#@title Code - Experiment 1\n",
        "\n",
        "# The following variables are the hyperparameters.\n",
        "settings_1 = ml_edu.experiment.ExperimentSettings(\n",
        "    learning_rate = 0.001,\n",
        "    number_epochs = 20,\n",
        "    batch_size = 50,\n",
        "    input_features = ['TRIP_MILES']\n",
        ")\n",
        "\n",
        "metrics = [keras.metrics.RootMeanSquaredError(name='rmse')]\n",
        "\n",
        "model_1 = create_model(settings_1, metrics)\n",
        "\n",
        "experiment_1 = train_model('one_feature', model_1, training_df, 'FARE', settings_1)\n",
        "\n",
        "ml_edu.results.plot_experiment_metrics(experiment_1, ['rmse'])\n",
        "ml_edu.results.plot_model_predictions(experiment_1, training_df, 'FARE')"
      ],
      "outputs": [
        {
          "output_type": "stream",
          "name": "stdout",
          "text": [
            "Epoch 1/20\n",
            "\u001b[1m634/634\u001b[0m \u001b[32m━━━━━━━━━━━━━━━━━━━━\u001b[0m\u001b[37m\u001b[0m \u001b[1m4s\u001b[0m 4ms/step - loss: 1121.5391 - rmse: 33.4746\n",
            "Epoch 2/20\n",
            "\u001b[1m634/634\u001b[0m \u001b[32m━━━━━━━━━━━━━━━━━━━━\u001b[0m\u001b[37m\u001b[0m \u001b[1m4s\u001b[0m 2ms/step - loss: 691.8681 - rmse: 26.2822\n",
            "Epoch 3/20\n",
            "\u001b[1m634/634\u001b[0m \u001b[32m━━━━━━━━━━━━━━━━━━━━\u001b[0m\u001b[37m\u001b[0m \u001b[1m1s\u001b[0m 2ms/step - loss: 365.4868 - rmse: 19.0943\n",
            "Epoch 4/20\n",
            "\u001b[1m634/634\u001b[0m \u001b[32m━━━━━━━━━━━━━━━━━━━━\u001b[0m\u001b[37m\u001b[0m \u001b[1m1s\u001b[0m 2ms/step - loss: 146.7525 - rmse: 12.0821\n",
            "Epoch 5/20\n",
            "\u001b[1m634/634\u001b[0m \u001b[32m━━━━━━━━━━━━━━━━━━━━\u001b[0m\u001b[37m\u001b[0m \u001b[1m1s\u001b[0m 2ms/step - loss: 34.9782 - rmse: 5.8809\n",
            "Epoch 6/20\n",
            "\u001b[1m634/634\u001b[0m \u001b[32m━━━━━━━━━━━━━━━━━━━━\u001b[0m\u001b[37m\u001b[0m \u001b[1m1s\u001b[0m 2ms/step - loss: 15.4201 - rmse: 3.9238\n",
            "Epoch 7/20\n",
            "\u001b[1m634/634\u001b[0m \u001b[32m━━━━━━━━━━━━━━━━━━━━\u001b[0m\u001b[37m\u001b[0m \u001b[1m1s\u001b[0m 2ms/step - loss: 15.0645 - rmse: 3.8748\n",
            "Epoch 8/20\n",
            "\u001b[1m634/634\u001b[0m \u001b[32m━━━━━━━━━━━━━━━━━━━━\u001b[0m\u001b[37m\u001b[0m \u001b[1m1s\u001b[0m 2ms/step - loss: 13.5063 - rmse: 3.6676\n",
            "Epoch 9/20\n",
            "\u001b[1m634/634\u001b[0m \u001b[32m━━━━━━━━━━━━━━━━━━━━\u001b[0m\u001b[37m\u001b[0m \u001b[1m2s\u001b[0m 3ms/step - loss: 15.4565 - rmse: 3.9102\n",
            "Epoch 10/20\n",
            "\u001b[1m634/634\u001b[0m \u001b[32m━━━━━━━━━━━━━━━━━━━━\u001b[0m\u001b[37m\u001b[0m \u001b[1m2s\u001b[0m 3ms/step - loss: 13.9611 - rmse: 3.7342\n",
            "Epoch 11/20\n",
            "\u001b[1m634/634\u001b[0m \u001b[32m━━━━━━━━━━━━━━━━━━━━\u001b[0m\u001b[37m\u001b[0m \u001b[1m1s\u001b[0m 2ms/step - loss: 14.4887 - rmse: 3.7985\n",
            "Epoch 12/20\n",
            "\u001b[1m634/634\u001b[0m \u001b[32m━━━━━━━━━━━━━━━━━━━━\u001b[0m\u001b[37m\u001b[0m \u001b[1m1s\u001b[0m 2ms/step - loss: 13.0559 - rmse: 3.6095\n",
            "Epoch 13/20\n",
            "\u001b[1m634/634\u001b[0m \u001b[32m━━━━━━━━━━━━━━━━━━━━\u001b[0m\u001b[37m\u001b[0m \u001b[1m1s\u001b[0m 2ms/step - loss: 14.5750 - rmse: 3.7988\n",
            "Epoch 14/20\n",
            "\u001b[1m634/634\u001b[0m \u001b[32m━━━━━━━━━━━━━━━━━━━━\u001b[0m\u001b[37m\u001b[0m \u001b[1m1s\u001b[0m 2ms/step - loss: 12.7568 - rmse: 3.5639\n",
            "Epoch 15/20\n",
            "\u001b[1m634/634\u001b[0m \u001b[32m━━━━━━━━━━━━━━━━━━━━\u001b[0m\u001b[37m\u001b[0m \u001b[1m2s\u001b[0m 2ms/step - loss: 14.4969 - rmse: 3.7915\n",
            "Epoch 16/20\n",
            "\u001b[1m634/634\u001b[0m \u001b[32m━━━━━━━━━━━━━━━━━━━━\u001b[0m\u001b[37m\u001b[0m \u001b[1m1s\u001b[0m 2ms/step - loss: 13.3243 - rmse: 3.6472\n",
            "Epoch 17/20\n",
            "\u001b[1m634/634\u001b[0m \u001b[32m━━━━━━━━━━━━━━━━━━━━\u001b[0m\u001b[37m\u001b[0m \u001b[1m2s\u001b[0m 3ms/step - loss: 13.6201 - rmse: 3.6888\n",
            "Epoch 18/20\n",
            "\u001b[1m634/634\u001b[0m \u001b[32m━━━━━━━━━━━━━━━━━━━━\u001b[0m\u001b[37m\u001b[0m \u001b[1m2s\u001b[0m 3ms/step - loss: 14.8711 - rmse: 3.8477\n",
            "Epoch 19/20\n",
            "\u001b[1m634/634\u001b[0m \u001b[32m━━━━━━━━━━━━━━━━━━━━\u001b[0m\u001b[37m\u001b[0m \u001b[1m1s\u001b[0m 2ms/step - loss: 13.7209 - rmse: 3.6982\n",
            "Epoch 20/20\n",
            "\u001b[1m634/634\u001b[0m \u001b[32m━━━━━━━━━━━━━━━━━━━━\u001b[0m\u001b[37m\u001b[0m \u001b[1m1s\u001b[0m 2ms/step - loss: 14.3018 - rmse: 3.7792\n",
            "\u001b[1m7/7\u001b[0m \u001b[32m━━━━━━━━━━━━━━━━━━━━\u001b[0m\u001b[37m\u001b[0m \u001b[1m0s\u001b[0m 9ms/step \n"
          ]
        },
        {
          "output_type": "display_data",
          "data": {
            "text/html": [
              "<html>\n",
              "<head><meta charset=\"utf-8\" /></head>\n",
              "<body>\n",
              "    <div>            <script src=\"https://cdnjs.cloudflare.com/ajax/libs/mathjax/2.7.5/MathJax.js?config=TeX-AMS-MML_SVG\"></script><script type=\"text/javascript\">if (window.MathJax && window.MathJax.Hub && window.MathJax.Hub.Config) {window.MathJax.Hub.Config({SVG: {font: \"STIX-Web\"}});}</script>                <script type=\"text/javascript\">window.PlotlyConfig = {MathJaxConfig: 'local'};</script>\n",
              "        <script charset=\"utf-8\" src=\"https://cdn.plot.ly/plotly-2.35.2.min.js\"></script>                <div id=\"18e0c22d-96ee-407c-abcd-d01bde015b43\" class=\"plotly-graph-div\" style=\"height:525px; width:100%;\"></div>            <script type=\"text/javascript\">                                    window.PLOTLYENV=window.PLOTLYENV || {};                                    if (document.getElementById(\"18e0c22d-96ee-407c-abcd-d01bde015b43\")) {                    Plotly.newPlot(                        \"18e0c22d-96ee-407c-abcd-d01bde015b43\",                        [{\"hovertemplate\":\"TRIP_MILES=%{x}\\u003cbr\\u003eFARE=%{y}\\u003cextra\\u003e\\u003c\\u002fextra\\u003e\",\"legendgroup\":\"\",\"marker\":{\"color\":\"#636efa\",\"symbol\":\"circle\"},\"mode\":\"markers\",\"name\":\"\",\"orientation\":\"v\",\"showlegend\":false,\"x\":[4.7,18.12,0.98,2.26,1.81,8.3,1.0,5.66,11.6,20.6,17.95,17.4,13.3,19.47,4.63,1.48,22.87,0.55,9.5,15.5,15.8,19.83,11.95,0.98,2.72,9.85,2.39,11.93,17.45,0.97,1.24,13.37,17.3,1.69,8.4,1.9,2.89,0.7,11.8,0.89,18.25,0.8,4.2,18.0,13.3,1.01,9.2,13.59,14.37,18.11,0.5,18.71,9.11,17.81,5.39,11.79,0.8,4.49,2.0,1.47,8.9,21.0,27.3,7.71,2.05,17.88,3.64,1.68,4.86,3.07,14.4,2.76,17.1,10.17,0.9,12.22,2.51,12.8,17.21,0.82,5.92,6.2,17.8,4.05,15.0,17.41,8.78,13.9,14.97,2.7,14.06,1.36,1.02,2.0,1.3,9.2,1.82,1.18,3.1,3.1,1.18,16.8,10.93,1.3,21.19,18.6,6.51,0.98,1.8,17.72,9.2,1.79,1.2,25.4,4.65,12.0,17.1,17.19,16.8,16.32,1.7,17.6,9.56,2.4,13.02,17.33,6.5,2.8,11.1,0.74,10.96,1.1,15.5,9.2,17.42,0.8,24.16,17.97,1.9,9.89,13.0,3.7,6.7,4.58,11.42,15.59,13.7,1.3,12.5,23.86,14.52,1.45,0.6,34.57,17.2,5.5,4.28,2.8,3.1,0.53,8.3,13.34,3.18,1.8,1.81,16.2,3.21,17.31,4.4,19.0,7.4,1.86,0.9,18.02,6.79,9.7,13.22,1.82,9.86,1.1,7.88,10.3,17.37,3.1,18.0,8.9,17.93,17.3,7.4,0.7,1.4,1.51,16.58,6.22,0.7,1.85,12.4,17.35,2.02,10.06],\"xaxis\":\"x\",\"y\":[15.25,44.0,6.75,9.0,12.5,17.63,9.0,18.0,32.25,49.75,45.75,43.5,34.0,50.0,16.68,7.25,57.53,4.5,27.5,40.5,40.75,48.75,35.25,7.5,11.75,26.0,10.25,32.0,44.25,6.0,9.0,36.75,46.0,9.5,29.5,8.25,12.94,5.5,18.0,6.0,46.25,5.5,13.5,44.75,34.0,6.0,25.0,35.75,43.22,45.25,4.5,46.25,25.25,44.25,16.25,30.0,5.5,18.99,9.75,7.25,24.25,50.5,65.5,24.25,9.0,44.5,13.0,9.75,14.25,11.25,36.0,15.5,41.75,31.25,7.5,31.25,10.75,32.0,46.5,6.0,18.5,18.75,44.75,14.75,41.25,43.0,25.25,35.25,39.5,11.75,39.5,9.0,6.0,9.0,9.25,25.5,9.18,6.75,11.0,10.5,9.75,43.0,32.75,7.5,52.5,48.25,19.0,5.75,9.75,44.25,25.0,8.5,7.0,61.25,14.75,32.25,43.75,42.75,41.25,42.75,8.0,44.25,31.75,9.25,33.5,45.25,18.0,11.0,29.0,5.0,28.25,7.0,41.0,26.75,43.0,5.5,58.25,44.25,9.25,27.5,33.75,13.25,23.5,16.0,29.75,44.0,35.75,6.5,33.5,57.25,38.77,7.25,4.75,81.5,42.5,17.0,13.5,9.75,13.5,5.5,25.75,35.5,11.0,9.0,8.5,42.25,13.0,42.25,14.0,46.75,22.0,8.75,6.0,44.5,20.25,27.0,38.4,9.0,30.0,7.0,21.25,50.5,42.75,12.0,44.5,25.75,43.5,43.0,20.25,5.0,7.75,7.75,40.75,23.25,5.25,9.0,34.5,55.14,9.44,27.25],\"yaxis\":\"y\",\"type\":\"scatter\"},{\"mode\":\"lines\",\"name\":\"prediction\",\"x\":[4.7,18.12,0.98,2.26,1.81,8.3,1.0,5.66,11.6,20.6,17.95,17.4,13.3,19.47,4.63,1.48,22.87,0.55,9.5,15.5,15.8,19.83,11.95,0.98,2.72,9.85,2.39,11.93,17.45,0.97,1.24,13.37,17.3,1.69,8.4,1.9,2.89,0.7,11.8,0.89,18.25,0.8,4.2,18.0,13.3,1.01,9.2,13.59,14.37,18.11,0.5,18.71,9.11,17.81,5.39,11.79,0.8,4.49,2.0,1.47,8.9,21.0,27.3,7.71,2.05,17.88,3.64,1.68,4.86,3.07,14.4,2.76,17.1,10.17,0.9,12.22,2.51,12.8,17.21,0.82,5.92,6.2,17.8,4.05,15.0,17.41,8.78,13.9,14.97,2.7,14.06,1.36,1.02,2.0,1.3,9.2,1.82,1.18,3.1,3.1,1.18,16.8,10.93,1.3,21.19,18.6,6.51,0.98,1.8,17.72,9.2,1.79,1.2,25.4,4.65,12.0,17.1,17.19,16.8,16.32,1.7,17.6,9.56,2.4,13.02,17.33,6.5,2.8,11.1,0.74,10.96,1.1,15.5,9.2,17.42,0.8,24.16,17.97,1.9,9.89,13.0,3.7,6.7,4.58,11.42,15.59,13.7,1.3,12.5,23.86,14.52,1.45,0.6,34.57,17.2,5.5,4.28,2.8,3.1,0.53,8.3,13.34,3.18,1.8,1.81,16.2,3.21,17.31,4.4,19.0,7.4,1.86,0.9,18.02,6.79,9.7,13.22,1.82,9.86,1.1,7.88,10.3,17.37,3.1,18.0,8.9,17.93,17.3,7.4,0.7,1.4,1.51,16.58,6.22,0.7,1.85,12.4,17.35,2.02,10.06],\"y\":[15.723141,46.386288,7.2233725,10.148024,9.119825,23.948725,7.2690697,17.91663,31.488844,52.0528,45.997856,44.74117,35.373146,49.47088,15.5632,8.365814,57.239487,6.240872,26.690586,40.39989,41.085354,50.293438,32.28855,7.2233725,11.199071,27.490297,10.445059,32.242855,44.855415,7.2005234,7.817442,35.53309,44.51268,8.84564,24.177212,9.325466,11.587502,6.583605,31.94582,7.0177326,46.683323,6.8120933,14.580698,46.1121,35.373146,7.2919188,26.005121,36.035763,37.81797,46.363438,6.126628,47.734367,25.79948,45.67797,17.299711,31.922972,6.8120933,15.243315,9.553954,8.342966,25.319654,52.96675,67.36153,22.600643,9.668198,45.837914,13.301165,8.822791,16.088724,11.99878,37.886517,11.290466,44.055706,28.221458,7.0405817,32.90547,10.719245,34.230705,44.30704,6.857791,18.5107,19.150467,45.65512,14.237967,39.257446,44.76402,25.04547,36.744076,39.1889,11.153374,37.109657,8.091628,7.314768,9.553954,7.954535,26.005121,9.142675,7.680349,12.067327,12.067327,7.680349,43.370235,29.957972,7.954535,53.400883,47.483032,19.858782,7.2233725,9.096977,45.472332,26.005121,9.074128,7.7260466,63.02024,15.608898,32.402794,44.055706,44.261345,43.370235,42.273495,8.868489,45.198147,26.82768,10.467908,34.73338,44.581226,19.835934,11.381861,30.346401,6.675,30.026518,7.4975586,40.39989,26.005121,44.78687,6.8120933,60.186985,46.043552,9.325466,27.581692,34.68768,13.438257,20.29291,15.448956,31.077564,40.60553,36.287098,7.954535,33.54524,59.501522,38.160706,8.297268,6.3551164,83.97263,44.284195,17.551048,14.763491,11.381861,12.067327,6.195174,23.948725,35.464542,12.250118,9.096977,9.119825,41.99931,12.318665,44.53553,15.037676,48.396984,21.89233,9.23407,7.0405817,46.1578,20.498549,27.147562,35.190353,9.142675,27.513144,7.4975586,22.989075,28.518494,44.672626,12.067327,46.1121,25.319654,45.95216,44.51268,21.89233,6.583605,8.183023,8.4343605,42.867565,19.196165,6.583605,9.211222,33.31675,44.626926,9.599651,27.970121],\"type\":\"scatter\"}],                        {\"template\":{\"data\":{\"histogram2dcontour\":[{\"type\":\"histogram2dcontour\",\"colorbar\":{\"outlinewidth\":0,\"ticks\":\"\"},\"colorscale\":[[0.0,\"#0d0887\"],[0.1111111111111111,\"#46039f\"],[0.2222222222222222,\"#7201a8\"],[0.3333333333333333,\"#9c179e\"],[0.4444444444444444,\"#bd3786\"],[0.5555555555555556,\"#d8576b\"],[0.6666666666666666,\"#ed7953\"],[0.7777777777777778,\"#fb9f3a\"],[0.8888888888888888,\"#fdca26\"],[1.0,\"#f0f921\"]]}],\"choropleth\":[{\"type\":\"choropleth\",\"colorbar\":{\"outlinewidth\":0,\"ticks\":\"\"}}],\"histogram2d\":[{\"type\":\"histogram2d\",\"colorbar\":{\"outlinewidth\":0,\"ticks\":\"\"},\"colorscale\":[[0.0,\"#0d0887\"],[0.1111111111111111,\"#46039f\"],[0.2222222222222222,\"#7201a8\"],[0.3333333333333333,\"#9c179e\"],[0.4444444444444444,\"#bd3786\"],[0.5555555555555556,\"#d8576b\"],[0.6666666666666666,\"#ed7953\"],[0.7777777777777778,\"#fb9f3a\"],[0.8888888888888888,\"#fdca26\"],[1.0,\"#f0f921\"]]}],\"heatmap\":[{\"type\":\"heatmap\",\"colorbar\":{\"outlinewidth\":0,\"ticks\":\"\"},\"colorscale\":[[0.0,\"#0d0887\"],[0.1111111111111111,\"#46039f\"],[0.2222222222222222,\"#7201a8\"],[0.3333333333333333,\"#9c179e\"],[0.4444444444444444,\"#bd3786\"],[0.5555555555555556,\"#d8576b\"],[0.6666666666666666,\"#ed7953\"],[0.7777777777777778,\"#fb9f3a\"],[0.8888888888888888,\"#fdca26\"],[1.0,\"#f0f921\"]]}],\"heatmapgl\":[{\"type\":\"heatmapgl\",\"colorbar\":{\"outlinewidth\":0,\"ticks\":\"\"},\"colorscale\":[[0.0,\"#0d0887\"],[0.1111111111111111,\"#46039f\"],[0.2222222222222222,\"#7201a8\"],[0.3333333333333333,\"#9c179e\"],[0.4444444444444444,\"#bd3786\"],[0.5555555555555556,\"#d8576b\"],[0.6666666666666666,\"#ed7953\"],[0.7777777777777778,\"#fb9f3a\"],[0.8888888888888888,\"#fdca26\"],[1.0,\"#f0f921\"]]}],\"contourcarpet\":[{\"type\":\"contourcarpet\",\"colorbar\":{\"outlinewidth\":0,\"ticks\":\"\"}}],\"contour\":[{\"type\":\"contour\",\"colorbar\":{\"outlinewidth\":0,\"ticks\":\"\"},\"colorscale\":[[0.0,\"#0d0887\"],[0.1111111111111111,\"#46039f\"],[0.2222222222222222,\"#7201a8\"],[0.3333333333333333,\"#9c179e\"],[0.4444444444444444,\"#bd3786\"],[0.5555555555555556,\"#d8576b\"],[0.6666666666666666,\"#ed7953\"],[0.7777777777777778,\"#fb9f3a\"],[0.8888888888888888,\"#fdca26\"],[1.0,\"#f0f921\"]]}],\"surface\":[{\"type\":\"surface\",\"colorbar\":{\"outlinewidth\":0,\"ticks\":\"\"},\"colorscale\":[[0.0,\"#0d0887\"],[0.1111111111111111,\"#46039f\"],[0.2222222222222222,\"#7201a8\"],[0.3333333333333333,\"#9c179e\"],[0.4444444444444444,\"#bd3786\"],[0.5555555555555556,\"#d8576b\"],[0.6666666666666666,\"#ed7953\"],[0.7777777777777778,\"#fb9f3a\"],[0.8888888888888888,\"#fdca26\"],[1.0,\"#f0f921\"]]}],\"mesh3d\":[{\"type\":\"mesh3d\",\"colorbar\":{\"outlinewidth\":0,\"ticks\":\"\"}}],\"scatter\":[{\"fillpattern\":{\"fillmode\":\"overlay\",\"size\":10,\"solidity\":0.2},\"type\":\"scatter\"}],\"parcoords\":[{\"type\":\"parcoords\",\"line\":{\"colorbar\":{\"outlinewidth\":0,\"ticks\":\"\"}}}],\"scatterpolargl\":[{\"type\":\"scatterpolargl\",\"marker\":{\"colorbar\":{\"outlinewidth\":0,\"ticks\":\"\"}}}],\"bar\":[{\"error_x\":{\"color\":\"#2a3f5f\"},\"error_y\":{\"color\":\"#2a3f5f\"},\"marker\":{\"line\":{\"color\":\"#E5ECF6\",\"width\":0.5},\"pattern\":{\"fillmode\":\"overlay\",\"size\":10,\"solidity\":0.2}},\"type\":\"bar\"}],\"scattergeo\":[{\"type\":\"scattergeo\",\"marker\":{\"colorbar\":{\"outlinewidth\":0,\"ticks\":\"\"}}}],\"scatterpolar\":[{\"type\":\"scatterpolar\",\"marker\":{\"colorbar\":{\"outlinewidth\":0,\"ticks\":\"\"}}}],\"histogram\":[{\"marker\":{\"pattern\":{\"fillmode\":\"overlay\",\"size\":10,\"solidity\":0.2}},\"type\":\"histogram\"}],\"scattergl\":[{\"type\":\"scattergl\",\"marker\":{\"colorbar\":{\"outlinewidth\":0,\"ticks\":\"\"}}}],\"scatter3d\":[{\"type\":\"scatter3d\",\"line\":{\"colorbar\":{\"outlinewidth\":0,\"ticks\":\"\"}},\"marker\":{\"colorbar\":{\"outlinewidth\":0,\"ticks\":\"\"}}}],\"scattermapbox\":[{\"type\":\"scattermapbox\",\"marker\":{\"colorbar\":{\"outlinewidth\":0,\"ticks\":\"\"}}}],\"scatterternary\":[{\"type\":\"scatterternary\",\"marker\":{\"colorbar\":{\"outlinewidth\":0,\"ticks\":\"\"}}}],\"scattercarpet\":[{\"type\":\"scattercarpet\",\"marker\":{\"colorbar\":{\"outlinewidth\":0,\"ticks\":\"\"}}}],\"carpet\":[{\"aaxis\":{\"endlinecolor\":\"#2a3f5f\",\"gridcolor\":\"white\",\"linecolor\":\"white\",\"minorgridcolor\":\"white\",\"startlinecolor\":\"#2a3f5f\"},\"baxis\":{\"endlinecolor\":\"#2a3f5f\",\"gridcolor\":\"white\",\"linecolor\":\"white\",\"minorgridcolor\":\"white\",\"startlinecolor\":\"#2a3f5f\"},\"type\":\"carpet\"}],\"table\":[{\"cells\":{\"fill\":{\"color\":\"#EBF0F8\"},\"line\":{\"color\":\"white\"}},\"header\":{\"fill\":{\"color\":\"#C8D4E3\"},\"line\":{\"color\":\"white\"}},\"type\":\"table\"}],\"barpolar\":[{\"marker\":{\"line\":{\"color\":\"#E5ECF6\",\"width\":0.5},\"pattern\":{\"fillmode\":\"overlay\",\"size\":10,\"solidity\":0.2}},\"type\":\"barpolar\"}],\"pie\":[{\"automargin\":true,\"type\":\"pie\"}]},\"layout\":{\"autotypenumbers\":\"strict\",\"colorway\":[\"#636efa\",\"#EF553B\",\"#00cc96\",\"#ab63fa\",\"#FFA15A\",\"#19d3f3\",\"#FF6692\",\"#B6E880\",\"#FF97FF\",\"#FECB52\"],\"font\":{\"color\":\"#2a3f5f\"},\"hovermode\":\"closest\",\"hoverlabel\":{\"align\":\"left\"},\"paper_bgcolor\":\"white\",\"plot_bgcolor\":\"#E5ECF6\",\"polar\":{\"bgcolor\":\"#E5ECF6\",\"angularaxis\":{\"gridcolor\":\"white\",\"linecolor\":\"white\",\"ticks\":\"\"},\"radialaxis\":{\"gridcolor\":\"white\",\"linecolor\":\"white\",\"ticks\":\"\"}},\"ternary\":{\"bgcolor\":\"#E5ECF6\",\"aaxis\":{\"gridcolor\":\"white\",\"linecolor\":\"white\",\"ticks\":\"\"},\"baxis\":{\"gridcolor\":\"white\",\"linecolor\":\"white\",\"ticks\":\"\"},\"caxis\":{\"gridcolor\":\"white\",\"linecolor\":\"white\",\"ticks\":\"\"}},\"coloraxis\":{\"colorbar\":{\"outlinewidth\":0,\"ticks\":\"\"}},\"colorscale\":{\"sequential\":[[0.0,\"#0d0887\"],[0.1111111111111111,\"#46039f\"],[0.2222222222222222,\"#7201a8\"],[0.3333333333333333,\"#9c179e\"],[0.4444444444444444,\"#bd3786\"],[0.5555555555555556,\"#d8576b\"],[0.6666666666666666,\"#ed7953\"],[0.7777777777777778,\"#fb9f3a\"],[0.8888888888888888,\"#fdca26\"],[1.0,\"#f0f921\"]],\"sequentialminus\":[[0.0,\"#0d0887\"],[0.1111111111111111,\"#46039f\"],[0.2222222222222222,\"#7201a8\"],[0.3333333333333333,\"#9c179e\"],[0.4444444444444444,\"#bd3786\"],[0.5555555555555556,\"#d8576b\"],[0.6666666666666666,\"#ed7953\"],[0.7777777777777778,\"#fb9f3a\"],[0.8888888888888888,\"#fdca26\"],[1.0,\"#f0f921\"]],\"diverging\":[[0,\"#8e0152\"],[0.1,\"#c51b7d\"],[0.2,\"#de77ae\"],[0.3,\"#f1b6da\"],[0.4,\"#fde0ef\"],[0.5,\"#f7f7f7\"],[0.6,\"#e6f5d0\"],[0.7,\"#b8e186\"],[0.8,\"#7fbc41\"],[0.9,\"#4d9221\"],[1,\"#276419\"]]},\"xaxis\":{\"gridcolor\":\"white\",\"linecolor\":\"white\",\"ticks\":\"\",\"title\":{\"standoff\":15},\"zerolinecolor\":\"white\",\"automargin\":true,\"zerolinewidth\":2},\"yaxis\":{\"gridcolor\":\"white\",\"linecolor\":\"white\",\"ticks\":\"\",\"title\":{\"standoff\":15},\"zerolinecolor\":\"white\",\"automargin\":true,\"zerolinewidth\":2},\"scene\":{\"xaxis\":{\"backgroundcolor\":\"#E5ECF6\",\"gridcolor\":\"white\",\"linecolor\":\"white\",\"showbackground\":true,\"ticks\":\"\",\"zerolinecolor\":\"white\",\"gridwidth\":2},\"yaxis\":{\"backgroundcolor\":\"#E5ECF6\",\"gridcolor\":\"white\",\"linecolor\":\"white\",\"showbackground\":true,\"ticks\":\"\",\"zerolinecolor\":\"white\",\"gridwidth\":2},\"zaxis\":{\"backgroundcolor\":\"#E5ECF6\",\"gridcolor\":\"white\",\"linecolor\":\"white\",\"showbackground\":true,\"ticks\":\"\",\"zerolinecolor\":\"white\",\"gridwidth\":2}},\"shapedefaults\":{\"line\":{\"color\":\"#2a3f5f\"}},\"annotationdefaults\":{\"arrowcolor\":\"#2a3f5f\",\"arrowhead\":0,\"arrowwidth\":1},\"geo\":{\"bgcolor\":\"white\",\"landcolor\":\"#E5ECF6\",\"subunitcolor\":\"white\",\"showland\":true,\"showlakes\":true,\"lakecolor\":\"white\"},\"title\":{\"x\":0.05},\"mapbox\":{\"style\":\"light\"}}},\"xaxis\":{\"anchor\":\"y\",\"domain\":[0.0,1.0],\"title\":{\"text\":\"TRIP_MILES\"}},\"yaxis\":{\"anchor\":\"x\",\"domain\":[0.0,1.0],\"title\":{\"text\":\"FARE\"}},\"legend\":{\"tracegroupgap\":0},\"title\":{\"text\":\"Model predictions vs. true values\"}},                        {\"responsive\": true}                    ).then(function(){\n",
              "                            \n",
              "var gd = document.getElementById('18e0c22d-96ee-407c-abcd-d01bde015b43');\n",
              "var x = new MutationObserver(function (mutations, observer) {{\n",
              "        var display = window.getComputedStyle(gd).display;\n",
              "        if (!display || display === 'none') {{\n",
              "            console.log([gd, 'removed!']);\n",
              "            Plotly.purge(gd);\n",
              "            observer.disconnect();\n",
              "        }}\n",
              "}});\n",
              "\n",
              "// Listen for the removal of the full notebook cells\n",
              "var notebookContainer = gd.closest('#notebook-container');\n",
              "if (notebookContainer) {{\n",
              "    x.observe(notebookContainer, {childList: true});\n",
              "}}\n",
              "\n",
              "// Listen for the clearing of the current output cell\n",
              "var outputEl = gd.closest('.output');\n",
              "if (outputEl) {{\n",
              "    x.observe(outputEl, {childList: true});\n",
              "}}\n",
              "\n",
              "                        })                };                            </script>        </div>\n",
              "</body>\n",
              "</html>"
            ]
          },
          "metadata": {}
        },
        {
          "output_type": "display_data",
          "data": {
            "text/plain": [
              "<Figure size 640x480 with 1 Axes>"
            ],
            "image/png": "[encoded data removed]"
          },
          "metadata": {}
        }
      ],
      "execution_count": 22
    },
    {
      "metadata": {
        "cellView": "form",
        "id": "y8Qnmb0wZ_pQ",
        "outputId": "13ea274d-7b33-4b2b-8d66-17a6ca9a0d99",
        "colab": {
          "base_uri": "https://localhost:8080/"
        }
      },
      "cell_type": "code",
      "source": [
        "#@title Double-click to view answers for training model with one feature\n",
        "\n",
        "# How many epochs did it take to converge on the final model?\n",
        "# -----------------------------------------------------------------------------\n",
        "answer = \"\"\"\n",
        "Use the loss curve to see where the loss begins to level off during training.\n",
        "\n",
        "With this set of hyperparameters:\n",
        "\n",
        "  learning_rate = 0.001\n",
        "  epochs = 20\n",
        "  batch_size = 50\n",
        "\n",
        "it takes about 5 epochs for the training run to converge to the final model.\n",
        "\"\"\"\n",
        "print(answer)\n",
        "\n",
        "# How well does the model fit the sample data?\n",
        "# -----------------------------------------------------------------------------\n",
        "answer = '''\n",
        "It appears from the model plot that the model fits the sample data fairly well.\n",
        "'''\n",
        "print(answer)"
      ],
      "outputs": [
        {
          "output_type": "stream",
          "name": "stdout",
          "text": [
            "\n",
            "Use the loss curve to see where the loss begins to level off during training.\n",
            "\n",
            "With this set of hyperparameters:\n",
            "\n",
            "  learning_rate = 0.001\n",
            "  epochs = 20\n",
            "  batch_size = 50\n",
            "\n",
            "it takes about 5 epochs for the training run to converge to the final model.\n",
            "\n",
            "\n",
            "It appears from the model plot that the model fits the sample data fairly well.\n",
            "\n"
          ]
        }
      ],
      "execution_count": 23
    },
    {
      "metadata": {
        "id": "MYmWW0a9p1ro"
      },
      "cell_type": "markdown",
      "source": [
        "## Experiment with hyperparameters\n",
        "\n",
        "It is common with machine learning to run multiple experiments to find the best set of hyperparmeters to train your model. In this step, try varying the hyperparameters one by one with this set of experiments:\n",
        "\n",
        "* *Experiment 1:* **Increase** the learning rate to **``1``** (batch size at ``50``).\n",
        "* *Experiment 2:* **Decrease** the learning rate to **``0.0001``** (batch size at ``50``).\n",
        "* *Experiment 3:* **Increase** the batch size to **``500``** (learning rate at ``0.001``).\n",
        "\n",
        "**Instructions**\n",
        "1. Update the hyperparameter values in the **Experiment 2** code cell according to the experiment.\n",
        "2. Run the **Experiment 2** code cell.\n",
        "3. After the training run, examine the output and note any differences you see in the loss curve or model output.\n",
        "4. Repeat steps 1 - 3 for each hyperparameter experiment.\n",
        "5. **Check your understanding** by answering these questions:\n",
        "  * How did raising the learning rate impact your ability to train the model?\n",
        "  * How did lowering the learning rate impact your ability to train the model?\n",
        "  * Did changing the batch size effect your training results?\n"
      ]
    },
    {
      "metadata": {
        "id": "PdUXEm1xeWcK",
        "outputId": "1ee37cfe-34b4-4fde-e258-df14617046d8",
        "colab": {
          "base_uri": "https://localhost:8080/"
        }
      },
      "cell_type": "code",
      "source": [
        "#@title Code - Experiment 2\n",
        "\n",
        "# The following variables are the hyperparameters.\n",
        "# TODO - Adjust these hyperparameters to see how they impact a training run.\n",
        "settings_2 = ml_edu.experiment.ExperimentSettings(\n",
        "    learning_rate = .0001,\n",
        "    number_epochs = 20,\n",
        "    batch_size = 50,\n",
        "    input_features = ['TRIP_MILES']\n",
        ")\n",
        "\n",
        "metrics = [keras.metrics.RootMeanSquaredError(name='rmse')]\n",
        "\n",
        "model_2 = create_model(settings_2, metrics)\n",
        "\n",
        "experiment_2 = train_model('one_feature_hyper', model_2, training_df, 'FARE', settings_2)\n",
        "\n",
        "ml_edu.results.plot_experiment_metrics(experiment_2, ['rmse'])\n",
        "ml_edu.results.plot_model_predictions(experiment_2, training_df, 'FARE')"
      ],
      "outputs": [
        {
          "output_type": "stream",
          "name": "stdout",
          "text": [
            "Epoch 1/20\n",
            "\u001b[1m634/634\u001b[0m \u001b[32m━━━━━━━━━━━━━━━━━━━━\u001b[0m\u001b[37m\u001b[0m \u001b[1m2s\u001b[0m 2ms/step - loss: 1906.5454 - rmse: 43.6623\n",
            "Epoch 2/20\n",
            "\u001b[1m634/634\u001b[0m \u001b[32m━━━━━━━━━━━━━━━━━━━━\u001b[0m\u001b[37m\u001b[0m \u001b[1m1s\u001b[0m 2ms/step - loss: 1813.7648 - rmse: 42.5862\n",
            "Epoch 3/20\n",
            "\u001b[1m634/634\u001b[0m \u001b[32m━━━━━━━━━━━━━━━━━━━━\u001b[0m\u001b[37m\u001b[0m \u001b[1m1s\u001b[0m 2ms/step - loss: 1748.1749 - rmse: 41.8104\n",
            "Epoch 4/20\n",
            "\u001b[1m634/634\u001b[0m \u001b[32m━━━━━━━━━━━━━━━━━━━━\u001b[0m\u001b[37m\u001b[0m \u001b[1m1s\u001b[0m 2ms/step - loss: 1700.0664 - rmse: 41.2310\n",
            "Epoch 5/20\n",
            "\u001b[1m624/634\u001b[0m \u001b[32m━━━━━━━━━━━━━━━━━━━\u001b[0m\u001b[37m━\u001b[0m \u001b[1m0s\u001b[0m 2ms/step - loss: 1659.0294 - rmse: 40.7304"
          ]
        }
      ],
      "execution_count": null
    },
    {
      "metadata": {
        "cellView": "form",
        "id": "Od7vJJpHiHYB"
      },
      "cell_type": "code",
      "source": [
        "#@title Double-click to view answers for hyperparameter experiments\n",
        "\n",
        "# How did raising the learning rate impact your ability to train the model?\n",
        "# -----------------------------------------------------------------------------\n",
        "answer = \"\"\"\n",
        "When the learning rate is too high, the loss curve bounces around and does not\n",
        "appear to be moving towards convergence with each iteration. Also, notice that\n",
        "the predicted model does not fit the data very well. With a learning rate that\n",
        "is too high, it is unlikely that you will be able to train a model with good\n",
        "results.\n",
        "\"\"\"\n",
        "print(answer)\n",
        "\n",
        "# How did lowering the learning rate impact your ability to train the model?\n",
        "# -----------------------------------------------------------------------------\n",
        "answer = '''\n",
        "When the learning rate is too small, it may take longer for the loss curve to\n",
        "converge. With a small learning rate the loss curve decreases slowly, but does\n",
        "not show a dramatic drop or leveling off. With a small learning rate you could\n",
        "increase the number of epochs so that your model will eventually converge, but\n",
        "it will take longer.\n",
        "'''\n",
        "print(answer)\n",
        "\n",
        "# Did changing the batch size effect your training results?\n",
        "# -----------------------------------------------------------------------------\n",
        "answer = '''\n",
        "Increasing the batch size makes each epoch run faster, but as with the smaller\n",
        "learning rate, the model does not converge with just 20 epochs. If you have\n",
        "time, try increasing the number of epochs and eventually you should see the\n",
        "model converge.\n",
        "'''\n",
        "print(answer)"
      ],
      "outputs": [],
      "execution_count": null
    },
    {
      "metadata": {
        "id": "o27u0JRj_gJr"
      },
      "cell_type": "markdown",
      "source": [
        "## Train a model with two features\n",
        "\n",
        "The model you trained with the feature ``TOTAL_MILES`` demonstrates fairly strong predictive power, but is it possible to do better? In this step, try training the model with two features, ``TRIP_MILES`` and ``TRIP_MINUTES``, to see if you can improve the model. You may recall that the original dataset does not include a feature ``TRIP_MINUTES``, but this feature can be easily derived from ``TRIP_SECONDS`` as shown in the code below.*\n",
        "\n",
        "**Instructions**\n",
        "1. Review the code in **Experiment 3** code cell.\n",
        "1. Run the **Experiment 3** code cell.\n",
        "1. Review the output from the training run and answer these questions:\n",
        "  * Does the model with two features produce better results than one using a single feature?\n",
        "  * Does it make a difference if you use ``TRIP_SECONDS`` instead of ``TRIP_MINUTES``?\n",
        "  * How well do you think the model comes to the ground truth fare calculation for Chicago Taxi Trips?\n",
        "\n",
        "\n",
        "Notice that the scatter plot of the features vs. the label is a three dimensional (3-D) plot. This representation allows you to visualize both features and the label all together. The two features (TRIP_MILES and TRIP_MINUTES) are on the x and y axis, and the label (FARE) is on the z axis. The plot shows individual examples in the dataset as circles, and the model as a surface (plane). With this 3-D model, if the trained model is good you would expect most of the examples to land on the plane surface. The 3-D plot is interactive so you can explore the data further by clicking or dragging the plot."
      ]
    },
    {
      "metadata": {
        "cellView": "form",
        "id": "Mg3gUYOoBAtd"
      },
      "cell_type": "code",
      "source": [
        "#@title Code - Experiment 3\n",
        "\n",
        "# The following variables are the hyperparameters.\n",
        "settings_3 = ml_edu.experiment.ExperimentSettings(\n",
        "    learning_rate = 0.001,\n",
        "    number_epochs = 20,\n",
        "    batch_size = 50,\n",
        "    input_features = ['TRIP_MILES', 'TRIP_MINUTES']\n",
        ")\n",
        "\n",
        "training_df['TRIP_MINUTES'] = training_df['TRIP_SECONDS']/60\n",
        "\n",
        "metrics = [keras.metrics.RootMeanSquaredError(name='rmse')]\n",
        "\n",
        "model_3 = create_model(settings_3, metrics)\n",
        "\n",
        "experiment_3 = train_model('two_features', model_3, training_df, 'FARE', settings_3)\n",
        "\n",
        "ml_edu.results.plot_experiment_metrics(experiment_3, ['rmse'])\n",
        "ml_edu.results.plot_model_predictions(experiment_3, training_df, 'FARE')"
      ],
      "outputs": [],
      "execution_count": null
    },
    {
      "metadata": {
        "cellView": "form",
        "id": "uFkKK5t33xSX"
      },
      "cell_type": "code",
      "source": [
        "#@title Double-click to view answers for training with two features\n",
        "\n",
        "# Does the model with two features produce better results than one using a\n",
        "# single feature?\n",
        "# -----------------------------------------------------------------------------\n",
        "answer = '''\n",
        "To answer this question for your specific training runs, compare the RMSE for\n",
        "each model. For example, if the RMSE for the model trained with one feature was\n",
        "3.7457 and the RMSE for the model with two features is 3.4787, that means that\n",
        "on average the model with two features makes predictions that are about $0.27\n",
        "closer to the observed fare.\n",
        "\n",
        "'''\n",
        "print(answer)\n",
        "\n",
        "# Does it make a difference if you use TRIP_SECONDS instead of TRIP_MINUTES?\n",
        "# -----------------------------------------------------------------------------\n",
        "answer = '''\n",
        "When training a model with more than one feature, it is important that all\n",
        "numeric values are roughly on the same scale. In this case, TRIP_SECONDS and\n",
        "TRIP_MILES do not meet this criteria. The mean value for TRIP_MILES is 8.3 and\n",
        "the mean for TRIP_SECONDS is 1,320; that is two orders of magnitude difference.\n",
        "In contrast, the mean for TRIP_MINUTES is 22, which is more similar to the scale\n",
        "of TRIP_MILES (8.3) than TRIP_SECONDS (1,320). Of course, this is not the\n",
        "only way to scale values before training, but you will learn about that in\n",
        "another module.\n",
        "'''\n",
        "print(answer)\n",
        "\n",
        "# How well do you think the model comes to the ground truth fare calculation for\n",
        "# Chicago taxi trips?\n",
        "# -----------------------------------------------------------------------------\n",
        "answer = '''\n",
        "In reality, Chicago taxi cabs use a documented formula to determine cab fares.\n",
        "For a single passenger paying cash, the fare is calculated like this:\n",
        "\n",
        "FARE = 2.25 * TRIP_MILES + 0.12 * TRIP_MINUTES + 3.25\n",
        "\n",
        "Typically with machine learning problems you would not know the 'correct'\n",
        "formula, but in this case you can use this knowledge to evaluate your model.\n",
        "Take a look at your model output (the weights and bias) and determine how\n",
        "well it matches the ground truth fare calculation. You should find that the\n",
        "model is roughly close to this formula.\n",
        "'''\n",
        "print(answer)"
      ],
      "outputs": [],
      "execution_count": null
    },
    {
      "metadata": {
        "id": "compare_experiments_cell"
      },
      "cell_type": "markdown",
      "source": [
        "## Compare Experiments"
      ]
    },
    {
      "metadata": {
        "id": "compare_experiments_code"
      },
      "cell_type": "code",
      "source": [
        "ml_edu.results.compare_experiment([experiment_1, experiment_3], ['rmse'], training_df, training_df['FARE'].values)"
      ],
      "outputs": [],
      "execution_count": null
    },
    {
      "metadata": {
        "id": "MzMfgxldSMGK"
      },
      "cell_type": "markdown",
      "source": [
        "# Part 4 - Validate Model\n",
        "\n",
        "\n",
        "---"
      ]
    },
    {
      "metadata": {
        "id": "_yW7nVxlO1WY"
      },
      "cell_type": "markdown",
      "source": [
        "## Use the model to make predictions\n",
        "\n",
        "Now that you have a trained model, you can use the model to make predictions. In practice, you should make predictions on examples that are not used during training. However, for this exercise, you'll just work with a subset of the same training dataset. In another Colab exercise you will explore ways to make predictions on examples not used in training.\n",
        "\n",
        "**Instructions**\n",
        "\n",
        "1. Run the **Define functions to make predictions** code cell.\n",
        "1. Run the **Make predictions** code cell.\n",
        "1. Review the predictions in the output.\n",
        "1. **Check your understanding** by answering these questions:\n",
        "  * How close is the predicted value to the label value? In other words, does your model accurately predict the fare for a taxi ride?"
      ]
    },
    {
      "metadata": {
        "cellView": "form",
        "id": "XdNxv3j8PGnr"
      },
      "cell_type": "code",
      "source": [
        "#@title Code - Define functions to make predictions\n",
        "def format_currency(x):\n",
        "  return \"${:.2f}\".format(x)\n",
        "\n",
        "def build_batch(df, batch_size):\n",
        "  batch = df.sample(n=batch_size).copy()\n",
        "  batch.set_index(np.arange(batch_size), inplace=True)\n",
        "  return batch\n",
        "\n",
        "def predict_fare(model, df, features, label, batch_size=50):\n",
        "  batch = build_batch(df, batch_size)\n",
        "  predicted_values = model.predict_on_batch(x={name: batch[name].values for name in features})\n",
        "\n",
        "  data = {\"PREDICTED_FARE\": [], \"OBSERVED_FARE\": [], \"L1_LOSS\": [],\n",
        "          features[0]: [], features[1]: []}\n",
        "  for i in range(batch_size):\n",
        "    predicted = predicted_values[i][0]\n",
        "    observed = batch.at[i, label]\n",
        "    data[\"PREDICTED_FARE\"].append(format_currency(predicted))\n",
        "    data[\"OBSERVED_FARE\"].append(format_currency(observed))\n",
        "    data[\"L1_LOSS\"].append(format_currency(abs(observed - predicted)))\n",
        "    data[features[0]].append(batch.at[i, features[0]])\n",
        "    data[features[1]].append(\"{:.2f}\".format(batch.at[i, features[1]]))\n",
        "\n",
        "  output_df = pd.DataFrame(data)\n",
        "  return output_df\n",
        "\n",
        "def show_predictions(output):\n",
        "  header = \"-\" * 80\n",
        "  banner = header + \"\\n\" + \"|\" + \"PREDICTIONS\".center(78) + \"|\" + \"\\n\" + header\n",
        "  print(banner)\n",
        "  print(output)\n",
        "  return"
      ],
      "outputs": [],
      "execution_count": null
    },
    {
      "metadata": {
        "cellView": "form",
        "id": "PK3oO2kYV8m0"
      },
      "cell_type": "code",
      "source": [
        "#@title Code - Make predictions\n",
        "\n",
        "output = predict_fare(experiment_3.model, training_df, experiment_3.settings.input_features, 'FARE')\n",
        "show_predictions(output)"
      ],
      "outputs": [],
      "execution_count": null
    },
    {
      "metadata": {
        "cellView": "form",
        "id": "6sjix7lXI7xT"
      },
      "cell_type": "code",
      "source": [
        "#@title Double-click to view answers for validate model\n",
        "\n",
        "# How close is the predicted value to the label value?\n",
        "# -----------------------------------------------------------------------------\n",
        "answer = '''\n",
        "Based on a random sampling of examples, the model seems to do pretty well\n",
        "predicting the fare for a taxi ride. Most of the predicted values do not vary\n",
        "significantly from the observed value. You should be able to see this by looking\n",
        "at the column L1_LOSS = |observed - predicted|.\n",
        "'''\n",
        "print(answer)"
      ],
      "outputs": [],
      "execution_count": null
    }
  ],
  "metadata": {
    "colab": {
      "collapsed_sections": [
        "sgR4YRjj5T-b"
      ],
      "provenance": [],
      "include_colab_link": true
    },
    "kernelspec": {
      "display_name": "Python 3",
      "name": "python3"
    },
    "language_info": {
      "name": "python"
    }
  },
  "nbformat": 4,
  "nbformat_minor": 0
}